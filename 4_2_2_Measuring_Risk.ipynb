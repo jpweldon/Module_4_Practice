{
 "cells": [
  {
   "cell_type": "markdown",
   "id": "0638a4f3-bdaf-456e-a795-a8f7ef278fe3",
   "metadata": {},
   "source": [
    "# Measuring Risk"
   ]
  },
  {
   "cell_type": "markdown",
   "id": "ba8623d9-1538-43ae-b5db-38741d86c85d",
   "metadata": {},
   "source": [
    "Using the following code snippet, calculate the mean (average) of all the elements using the Pandas sum and count functions. "
   ]
  },
  {
   "cell_type": "code",
   "execution_count": 11,
   "id": "e3971e85-98ba-4603-89e6-b997f3e146d2",
   "metadata": {},
   "outputs": [
    {
     "data": {
      "text/html": [
       "<div>\n",
       "<style scoped>\n",
       "    .dataframe tbody tr th:only-of-type {\n",
       "        vertical-align: middle;\n",
       "    }\n",
       "\n",
       "    .dataframe tbody tr th {\n",
       "        vertical-align: top;\n",
       "    }\n",
       "\n",
       "    .dataframe thead th {\n",
       "        text-align: right;\n",
       "    }\n",
       "</style>\n",
       "<table border=\"1\" class=\"dataframe\">\n",
       "  <thead>\n",
       "    <tr style=\"text-align: right;\">\n",
       "      <th></th>\n",
       "      <th>close</th>\n",
       "    </tr>\n",
       "  </thead>\n",
       "  <tbody>\n",
       "    <tr>\n",
       "      <th>0</th>\n",
       "      <td>11.25</td>\n",
       "    </tr>\n",
       "    <tr>\n",
       "      <th>1</th>\n",
       "      <td>11.98</td>\n",
       "    </tr>\n",
       "    <tr>\n",
       "      <th>2</th>\n",
       "      <td>10.74</td>\n",
       "    </tr>\n",
       "    <tr>\n",
       "      <th>3</th>\n",
       "      <td>11.16</td>\n",
       "    </tr>\n",
       "    <tr>\n",
       "      <th>4</th>\n",
       "      <td>12.35</td>\n",
       "    </tr>\n",
       "    <tr>\n",
       "      <th>5</th>\n",
       "      <td>12.87</td>\n",
       "    </tr>\n",
       "    <tr>\n",
       "      <th>6</th>\n",
       "      <td>13.03</td>\n",
       "    </tr>\n",
       "    <tr>\n",
       "      <th>7</th>\n",
       "      <td>13.14</td>\n",
       "    </tr>\n",
       "    <tr>\n",
       "      <th>8</th>\n",
       "      <td>13.37</td>\n",
       "    </tr>\n",
       "    <tr>\n",
       "      <th>9</th>\n",
       "      <td>12.99</td>\n",
       "    </tr>\n",
       "  </tbody>\n",
       "</table>\n",
       "</div>"
      ],
      "text/plain": [
       "   close\n",
       "0  11.25\n",
       "1  11.98\n",
       "2  10.74\n",
       "3  11.16\n",
       "4  12.35\n",
       "5  12.87\n",
       "6  13.03\n",
       "7  13.14\n",
       "8  13.37\n",
       "9  12.99"
      ]
     },
     "execution_count": 11,
     "metadata": {},
     "output_type": "execute_result"
    }
   ],
   "source": [
    "# Import the pandas library\n",
    "import pandas as pd\n",
    "\n",
    "# Create the stock_abc DataFrame\n",
    "stock_abc = pd.DataFrame({'close' : [11.25, 11.98, 10.74, 11.16, 12.35, 12.87, 13.03, 13.14, 13.37, 12.99]})\n",
    "\n",
    "# View the stock_abc DataFrame\n",
    "stock_abc\n"
   ]
  },
  {
   "cell_type": "code",
   "execution_count": 12,
   "id": "620c878a-4183-4cb0-a8be-4b4937b20c08",
   "metadata": {},
   "outputs": [
    {
     "data": {
      "text/plain": [
       "12.288"
      ]
     },
     "execution_count": 12,
     "metadata": {},
     "output_type": "execute_result"
    }
   ],
   "source": [
    "# Calculate the mean of the stock_abc DataFrame\n",
    "stock_abc_mean = stock_abc['close'].sum() / stock_abc['close'].count()\n",
    "stock_abc_mean\n"
   ]
  },
  {
   "cell_type": "markdown",
   "id": "c65c23df-b34b-498f-b322-822822640e0b",
   "metadata": {},
   "source": [
    "Using the following code snippet, calculate the mean (average) of all the elements using the Pandas mean function. "
   ]
  },
  {
   "cell_type": "code",
   "execution_count": 13,
   "id": "b6761ae3-7b1f-45ab-ac3b-f5e735ef1c59",
   "metadata": {},
   "outputs": [
    {
     "data": {
      "text/html": [
       "<div>\n",
       "<style scoped>\n",
       "    .dataframe tbody tr th:only-of-type {\n",
       "        vertical-align: middle;\n",
       "    }\n",
       "\n",
       "    .dataframe tbody tr th {\n",
       "        vertical-align: top;\n",
       "    }\n",
       "\n",
       "    .dataframe thead th {\n",
       "        text-align: right;\n",
       "    }\n",
       "</style>\n",
       "<table border=\"1\" class=\"dataframe\">\n",
       "  <thead>\n",
       "    <tr style=\"text-align: right;\">\n",
       "      <th></th>\n",
       "      <th>close</th>\n",
       "    </tr>\n",
       "  </thead>\n",
       "  <tbody>\n",
       "    <tr>\n",
       "      <th>0</th>\n",
       "      <td>14.25</td>\n",
       "    </tr>\n",
       "    <tr>\n",
       "      <th>1</th>\n",
       "      <td>15.98</td>\n",
       "    </tr>\n",
       "    <tr>\n",
       "      <th>2</th>\n",
       "      <td>11.74</td>\n",
       "    </tr>\n",
       "    <tr>\n",
       "      <th>3</th>\n",
       "      <td>13.16</td>\n",
       "    </tr>\n",
       "    <tr>\n",
       "      <th>4</th>\n",
       "      <td>12.35</td>\n",
       "    </tr>\n",
       "    <tr>\n",
       "      <th>5</th>\n",
       "      <td>14.87</td>\n",
       "    </tr>\n",
       "    <tr>\n",
       "      <th>6</th>\n",
       "      <td>15.03</td>\n",
       "    </tr>\n",
       "    <tr>\n",
       "      <th>7</th>\n",
       "      <td>16.14</td>\n",
       "    </tr>\n",
       "    <tr>\n",
       "      <th>8</th>\n",
       "      <td>13.37</td>\n",
       "    </tr>\n",
       "    <tr>\n",
       "      <th>9</th>\n",
       "      <td>12.99</td>\n",
       "    </tr>\n",
       "  </tbody>\n",
       "</table>\n",
       "</div>"
      ],
      "text/plain": [
       "   close\n",
       "0  14.25\n",
       "1  15.98\n",
       "2  11.74\n",
       "3  13.16\n",
       "4  12.35\n",
       "5  14.87\n",
       "6  15.03\n",
       "7  16.14\n",
       "8  13.37\n",
       "9  12.99"
      ]
     },
     "execution_count": 13,
     "metadata": {},
     "output_type": "execute_result"
    }
   ],
   "source": [
    "# Create the stock_def DataFrame\n",
    "stock_def = pd.DataFrame({'close' : [14.25, 15.98, 11.74, 13.16, 12.35, 14.87, 15.03, 16.14, 13.37, 12.99]})\n",
    "\n",
    "# View the stock_def DataFrame\n",
    "stock_def\n"
   ]
  },
  {
   "cell_type": "code",
   "execution_count": 14,
   "id": "86ecd260-406a-4837-9765-41c2847af47a",
   "metadata": {},
   "outputs": [
    {
     "data": {
      "text/plain": [
       "13.988"
      ]
     },
     "execution_count": 14,
     "metadata": {},
     "output_type": "execute_result"
    }
   ],
   "source": [
    "# Calculate the mean of the stock_def DataFrame\n",
    "stock_def_mean = stock_def['close'].mean()\n",
    "stock_def_mean"
   ]
  },
  {
   "cell_type": "code",
   "execution_count": null,
   "id": "11936906-ae3d-4464-8953-0caabd3d5797",
   "metadata": {},
   "outputs": [],
   "source": []
  }
 ],
 "metadata": {
  "kernelspec": {
   "display_name": "Python 3",
   "language": "python",
   "name": "python3"
  },
  "language_info": {
   "codemirror_mode": {
    "name": "ipython",
    "version": 3
   },
   "file_extension": ".py",
   "mimetype": "text/x-python",
   "name": "python",
   "nbconvert_exporter": "python",
   "pygments_lexer": "ipython3",
   "version": "3.7.10"
  }
 },
 "nbformat": 4,
 "nbformat_minor": 5
}
