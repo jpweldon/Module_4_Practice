{
 "cells": [
  {
   "cell_type": "markdown",
   "id": "aca90941",
   "metadata": {},
   "source": [
    "# Covariance Exercise"
   ]
  },
  {
   "cell_type": "code",
   "execution_count": 1,
   "id": "dde4062a",
   "metadata": {},
   "outputs": [],
   "source": [
    "# Import the pandas library\n",
    "import pandas as pd\n",
    "\n",
    "# Create the stocks DataFrame\n",
    "stocks = pd.DataFrame({\n",
    "'stock_hij' : [142.13, 143.54, 142.52, 143.43, 141.73, 137.68, 139.71, 139.60, 139.61, 141.57],\n",
    "'stock_klm' : [53.88, 52.83, 52.55, 53.84, 54.16, 55.58, 53.43, 52.50, 53.90, 47.86],\n",
    "'market' : [3534.22, 3511.93, 3488.67, 3483.34, 3483.81, 3426.92, 3443.12, 3435.56, 3453.49, 3449.52]\n",
    "})"
   ]
  },
  {
   "cell_type": "code",
   "execution_count": 2,
   "id": "24a7787a",
   "metadata": {},
   "outputs": [
    {
     "data": {
      "text/html": [
       "<div>\n",
       "<style scoped>\n",
       "    .dataframe tbody tr th:only-of-type {\n",
       "        vertical-align: middle;\n",
       "    }\n",
       "\n",
       "    .dataframe tbody tr th {\n",
       "        vertical-align: top;\n",
       "    }\n",
       "\n",
       "    .dataframe thead th {\n",
       "        text-align: right;\n",
       "    }\n",
       "</style>\n",
       "<table border=\"1\" class=\"dataframe\">\n",
       "  <thead>\n",
       "    <tr style=\"text-align: right;\">\n",
       "      <th></th>\n",
       "      <th>stock_hij</th>\n",
       "      <th>stock_klm</th>\n",
       "      <th>market</th>\n",
       "    </tr>\n",
       "  </thead>\n",
       "  <tbody>\n",
       "    <tr>\n",
       "      <th>1</th>\n",
       "      <td>0.009920</td>\n",
       "      <td>-0.019488</td>\n",
       "      <td>-0.006307</td>\n",
       "    </tr>\n",
       "    <tr>\n",
       "      <th>2</th>\n",
       "      <td>-0.007106</td>\n",
       "      <td>-0.005300</td>\n",
       "      <td>-0.006623</td>\n",
       "    </tr>\n",
       "    <tr>\n",
       "      <th>3</th>\n",
       "      <td>0.006385</td>\n",
       "      <td>0.024548</td>\n",
       "      <td>-0.001528</td>\n",
       "    </tr>\n",
       "    <tr>\n",
       "      <th>4</th>\n",
       "      <td>-0.011852</td>\n",
       "      <td>0.005944</td>\n",
       "      <td>0.000135</td>\n",
       "    </tr>\n",
       "    <tr>\n",
       "      <th>5</th>\n",
       "      <td>-0.028575</td>\n",
       "      <td>0.026219</td>\n",
       "      <td>-0.016330</td>\n",
       "    </tr>\n",
       "    <tr>\n",
       "      <th>6</th>\n",
       "      <td>0.014744</td>\n",
       "      <td>-0.038683</td>\n",
       "      <td>0.004727</td>\n",
       "    </tr>\n",
       "    <tr>\n",
       "      <th>7</th>\n",
       "      <td>-0.000787</td>\n",
       "      <td>-0.017406</td>\n",
       "      <td>-0.002196</td>\n",
       "    </tr>\n",
       "    <tr>\n",
       "      <th>8</th>\n",
       "      <td>0.000072</td>\n",
       "      <td>0.026667</td>\n",
       "      <td>0.005219</td>\n",
       "    </tr>\n",
       "    <tr>\n",
       "      <th>9</th>\n",
       "      <td>0.014039</td>\n",
       "      <td>-0.112059</td>\n",
       "      <td>-0.001150</td>\n",
       "    </tr>\n",
       "  </tbody>\n",
       "</table>\n",
       "</div>"
      ],
      "text/plain": [
       "   stock_hij  stock_klm    market\n",
       "1   0.009920  -0.019488 -0.006307\n",
       "2  -0.007106  -0.005300 -0.006623\n",
       "3   0.006385   0.024548 -0.001528\n",
       "4  -0.011852   0.005944  0.000135\n",
       "5  -0.028575   0.026219 -0.016330\n",
       "6   0.014744  -0.038683  0.004727\n",
       "7  -0.000787  -0.017406 -0.002196\n",
       "8   0.000072   0.026667  0.005219\n",
       "9   0.014039  -0.112059 -0.001150"
      ]
     },
     "execution_count": 2,
     "metadata": {},
     "output_type": "execute_result"
    }
   ],
   "source": [
    "# Create a daily_returns DataFrame by using the pct_change and dropna functions.\n",
    "daily_returns = stocks.pct_change().dropna()\n",
    "daily_returns"
   ]
  },
  {
   "cell_type": "code",
   "execution_count": 7,
   "id": "effd9855",
   "metadata": {},
   "outputs": [
    {
     "data": {
      "text/plain": [
       "market       0.000043\n",
       "stock_hij    0.000195\n",
       "stock_klm    0.001933\n",
       "dtype: float64"
      ]
     },
     "execution_count": 7,
     "metadata": {},
     "output_type": "execute_result"
    }
   ],
   "source": [
    "# Use the var function to calculate the variance of the different stocks.\n",
    "# Sort the values using the sort_values function\n",
    "variance_stocks = daily_returns.var().sort_values()\n",
    "variance_stocks\n"
   ]
  },
  {
   "cell_type": "code",
   "execution_count": 8,
   "id": "832aeb26",
   "metadata": {},
   "outputs": [
    {
     "data": {
      "text/plain": [
       "-0.0003731261143720418"
      ]
     },
     "execution_count": 8,
     "metadata": {},
     "output_type": "execute_result"
    }
   ],
   "source": [
    "# Use the cov function to calculate the covariance between stock_hij and stock_klm.\n",
    "covariance_hij_klm = daily_returns['stock_hij'].cov(daily_returns['stock_klm'])\n",
    "covariance_hij_klm\n"
   ]
  },
  {
   "cell_type": "code",
   "execution_count": 9,
   "id": "c92ef750",
   "metadata": {},
   "outputs": [
    {
     "data": {
      "text/plain": [
       "6.087401909166788e-05"
      ]
     },
     "execution_count": 9,
     "metadata": {},
     "output_type": "execute_result"
    }
   ],
   "source": [
    "# Use the cov function to calculate the covariance between stock_hij and market.\n",
    "covariance_hij_market = daily_returns['stock_hij'].cov(daily_returns['market'])\n",
    "covariance_hij_market\n"
   ]
  },
  {
   "cell_type": "code",
   "execution_count": 10,
   "id": "46291cdc",
   "metadata": {},
   "outputs": [
    {
     "data": {
      "text/plain": [
       "-5.953523993705931e-05"
      ]
     },
     "execution_count": 10,
     "metadata": {},
     "output_type": "execute_result"
    }
   ],
   "source": [
    "# Use the cov function to calculate the covariance between stock_klm and market.\n",
    "# Use the cov function to calculate the covariance between stock_hij and stock_klm.\n",
    "covariance_klm_market = daily_returns['stock_klm'].cov(daily_returns['market'])\n",
    "covariance_klm_market\n"
   ]
  },
  {
   "cell_type": "markdown",
   "id": "e14f4e1c",
   "metadata": {},
   "source": [
    "Answer the following question: Which stock relationships have a positive covariance, and which have a negative covariance?\n",
    "\n",
    "Stock HIJ has a positive covariance with the market. Stock HIJ has a negative covariance with stock KLM and stock KLM has a negative covariance with the market."
   ]
  },
  {
   "cell_type": "markdown",
   "id": "e9ff8f06",
   "metadata": {},
   "source": [
    "The covariance data indicates that stock HIJ tends to move in the same direction as the market while stock KML tends to move in the opposite direction of stock HIJ and the market.\n"
   ]
  },
  {
   "cell_type": "code",
   "execution_count": null,
   "id": "0e9c12f3",
   "metadata": {},
   "outputs": [],
   "source": []
  }
 ],
 "metadata": {
  "kernelspec": {
   "display_name": "Python 3",
   "language": "python",
   "name": "python3"
  },
  "language_info": {
   "codemirror_mode": {
    "name": "ipython",
    "version": 3
   },
   "file_extension": ".py",
   "mimetype": "text/x-python",
   "name": "python",
   "nbconvert_exporter": "python",
   "pygments_lexer": "ipython3",
   "version": "3.7.10"
  }
 },
 "nbformat": 4,
 "nbformat_minor": 5
}
