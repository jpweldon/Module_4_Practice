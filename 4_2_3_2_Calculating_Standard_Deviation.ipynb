{
 "cells": [
  {
   "cell_type": "markdown",
   "id": "b1ad611a",
   "metadata": {},
   "source": [
    "# Standard Deviation"
   ]
  },
  {
   "cell_type": "markdown",
   "id": "b64e9025",
   "metadata": {},
   "source": [
    "Perform the following actions by using the code that follows:\n",
    "\n",
    "1. Create a daily_returns DataFrame by using the pct_change and dropna functions.\n",
    "\n",
    "2. Determine the stocks with the smallest and largest standard deviations by using the Pandas std and sort_values functions.\n",
    "\n",
    "3. Calculate the annualized standard deviations for the group of stocks by using NumPy and the formula for the annualized standard deviation. Use 252 as the number of trading days in the year.\n",
    "\n",
    "Be sure to sort the annualized values to confirm that they appear in the same order as the standard deviations based on just the daily returns. Remember that the formula for the annualized standard deviation is the following:\n",
    "\n",
    "annualized standard deviation = standard deviation * np.sqrt(number of trading days)\n"
   ]
  },
  {
   "cell_type": "code",
   "execution_count": 1,
   "id": "cf39c8be",
   "metadata": {},
   "outputs": [],
   "source": [
    "# Import the pandas and numpy libraries\n",
    "import pandas as pd\n",
    "import numpy as np\n",
    "\n",
    "# Create the stocks DataFrame\n",
    "stocks = pd.DataFrame({\n",
    "    'stock_abc' : [17.89, 16.43, 16.25, 15.74, 15.36, 18.29, 18.00, 18.15, 18.30, 18.50],\n",
    "    'stock_def' : [124.37, 125.21, 125.75, 126.51, 127.25, 127.00, 127.10, 126.89, 126.99, 127.75],\n",
    "    'stock_efg' : [5.45, 5.50, 5.75, 5.10, 4.90, 4.75, 4.70, 4.80, 4.29, 4.33]\n",
    "})\n"
   ]
  },
  {
   "cell_type": "code",
   "execution_count": 2,
   "id": "e65daadf",
   "metadata": {},
   "outputs": [
    {
     "data": {
      "text/html": [
       "<div>\n",
       "<style scoped>\n",
       "    .dataframe tbody tr th:only-of-type {\n",
       "        vertical-align: middle;\n",
       "    }\n",
       "\n",
       "    .dataframe tbody tr th {\n",
       "        vertical-align: top;\n",
       "    }\n",
       "\n",
       "    .dataframe thead th {\n",
       "        text-align: right;\n",
       "    }\n",
       "</style>\n",
       "<table border=\"1\" class=\"dataframe\">\n",
       "  <thead>\n",
       "    <tr style=\"text-align: right;\">\n",
       "      <th></th>\n",
       "      <th>stock_abc</th>\n",
       "      <th>stock_def</th>\n",
       "      <th>stock_efg</th>\n",
       "    </tr>\n",
       "  </thead>\n",
       "  <tbody>\n",
       "    <tr>\n",
       "      <th>1</th>\n",
       "      <td>-0.081610</td>\n",
       "      <td>0.006754</td>\n",
       "      <td>0.009174</td>\n",
       "    </tr>\n",
       "    <tr>\n",
       "      <th>2</th>\n",
       "      <td>-0.010956</td>\n",
       "      <td>0.004313</td>\n",
       "      <td>0.045455</td>\n",
       "    </tr>\n",
       "    <tr>\n",
       "      <th>3</th>\n",
       "      <td>-0.031385</td>\n",
       "      <td>0.006044</td>\n",
       "      <td>-0.113043</td>\n",
       "    </tr>\n",
       "    <tr>\n",
       "      <th>4</th>\n",
       "      <td>-0.024142</td>\n",
       "      <td>0.005849</td>\n",
       "      <td>-0.039216</td>\n",
       "    </tr>\n",
       "    <tr>\n",
       "      <th>5</th>\n",
       "      <td>0.190755</td>\n",
       "      <td>-0.001965</td>\n",
       "      <td>-0.030612</td>\n",
       "    </tr>\n",
       "  </tbody>\n",
       "</table>\n",
       "</div>"
      ],
      "text/plain": [
       "   stock_abc  stock_def  stock_efg\n",
       "1  -0.081610   0.006754   0.009174\n",
       "2  -0.010956   0.004313   0.045455\n",
       "3  -0.031385   0.006044  -0.113043\n",
       "4  -0.024142   0.005849  -0.039216\n",
       "5   0.190755  -0.001965  -0.030612"
      ]
     },
     "execution_count": 2,
     "metadata": {},
     "output_type": "execute_result"
    }
   ],
   "source": [
    "# Create a daily_returns DataFrame by using the pct_change and dropna functions\n",
    "daily_returns = stocks.pct_change().dropna()\n",
    "\n",
    "# View the first five rows of the daily_returns DataFrame\n",
    "daily_returns.head()\n"
   ]
  },
  {
   "cell_type": "code",
   "execution_count": 3,
   "id": "ca8f0506",
   "metadata": {},
   "outputs": [
    {
     "data": {
      "text/plain": [
       "stock_def    0.003503\n",
       "stock_efg    0.055040\n",
       "stock_abc    0.074930\n",
       "dtype: float64"
      ]
     },
     "execution_count": 3,
     "metadata": {},
     "output_type": "execute_result"
    }
   ],
   "source": [
    "# Determine the stocks with the smallest and largest standard deviations by using the Pandas std and sort_values functions\n",
    "std_deviation_stock_returns = daily_returns.std().sort_values()\n",
    "\n",
    "# View the std_deviation_stock_returns DataFrame\n",
    "std_deviation_stock_returns\n"
   ]
  },
  {
   "cell_type": "code",
   "execution_count": 4,
   "id": "75a913a4",
   "metadata": {},
   "outputs": [
    {
     "data": {
      "text/plain": [
       "stock_def    0.055613\n",
       "stock_efg    0.873733\n",
       "stock_abc    1.189478\n",
       "dtype: float64"
      ]
     },
     "execution_count": 4,
     "metadata": {},
     "output_type": "execute_result"
    }
   ],
   "source": [
    "# Calculate the annualized standard deviations for the group of stocks by using NumPy and the formula for the annualized standard deviation.\n",
    "# Use 252 as the number of trading days in the year\n",
    "# Be sure to sort the annualized values\n",
    "# Confirm that they appear in the same order as the standard deviations based on just the daily returns\n",
    "# Note: Used a sorted standard deviation DataFrame in the calculation\n",
    "# Annualized standard deviation = standard deviation * np.sqrt(number of trading days)\n",
    "annualized_std_deviation_stock_retuns = std_deviation_stock_returns * np.sqrt(252)\n",
    "\n",
    "# View the annualized_std_deviation_stock_retuns DataFrame\n",
    "annualized_std_deviation_stock_retuns\n"
   ]
  },
  {
   "cell_type": "code",
   "execution_count": null,
   "id": "5b1ce12e",
   "metadata": {},
   "outputs": [],
   "source": []
  }
 ],
 "metadata": {
  "kernelspec": {
   "display_name": "Python 3",
   "language": "python",
   "name": "python3"
  },
  "language_info": {
   "codemirror_mode": {
    "name": "ipython",
    "version": 3
   },
   "file_extension": ".py",
   "mimetype": "text/x-python",
   "name": "python",
   "nbconvert_exporter": "python",
   "pygments_lexer": "ipython3",
   "version": "3.7.10"
  }
 },
 "nbformat": 4,
 "nbformat_minor": 5
}
