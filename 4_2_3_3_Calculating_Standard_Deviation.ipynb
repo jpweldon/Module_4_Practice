{
 "cells": [
  {
   "cell_type": "markdown",
   "id": "a9628032",
   "metadata": {},
   "source": [
    "# Standard Deviation"
   ]
  },
  {
   "cell_type": "markdown",
   "id": "f4ac6f04",
   "metadata": {},
   "source": [
    "Perform the following actions by using the code that follows:\n",
    "\n",
    "1. Create a daily_returns DataFrame by using the pct_change and dropna functions.\n",
    "\n",
    "2. Determine the stocks with the smallest and largest standard deviations by using the Pandas std and sort_values functions.\n",
    "\n",
    "3. Use the Pandas plot.box function to review the spread of the daily_returns DataFrame.\n",
    "\n",
    "4. Compare the box plot with the sorted standard deviation metrics.\n"
   ]
  },
  {
   "cell_type": "code",
   "execution_count": 1,
   "id": "d27430db",
   "metadata": {},
   "outputs": [],
   "source": [
    "# Import the pandas library\n",
    "import pandas as pd\n",
    "\n",
    "# Create the stocks DataFrame\n",
    "stocks = pd.DataFrame({\n",
    "    'stock_abc' : [17.89, 16.43, 16.25, 15.74, 15.36, 18.29, 18.00, 18.15, 18.30, 18.50],\n",
    "    'stock_def' : [124.37, 125.21, 125.75, 126.51, 127.25, 127.00, 127.10, 126.89, 126.99, 127.75],\n",
    "    'stock_efg' : [5.45, 5.50, 5.75, 5.10, 4.90, 4.75, 4.70, 4.80, 4.29, 4.33]\n",
    "})\n"
   ]
  },
  {
   "cell_type": "code",
   "execution_count": 2,
   "id": "8eb142c7",
   "metadata": {},
   "outputs": [
    {
     "data": {
      "text/html": [
       "<div>\n",
       "<style scoped>\n",
       "    .dataframe tbody tr th:only-of-type {\n",
       "        vertical-align: middle;\n",
       "    }\n",
       "\n",
       "    .dataframe tbody tr th {\n",
       "        vertical-align: top;\n",
       "    }\n",
       "\n",
       "    .dataframe thead th {\n",
       "        text-align: right;\n",
       "    }\n",
       "</style>\n",
       "<table border=\"1\" class=\"dataframe\">\n",
       "  <thead>\n",
       "    <tr style=\"text-align: right;\">\n",
       "      <th></th>\n",
       "      <th>stock_abc</th>\n",
       "      <th>stock_def</th>\n",
       "      <th>stock_efg</th>\n",
       "    </tr>\n",
       "  </thead>\n",
       "  <tbody>\n",
       "    <tr>\n",
       "      <th>1</th>\n",
       "      <td>-0.081610</td>\n",
       "      <td>0.006754</td>\n",
       "      <td>0.009174</td>\n",
       "    </tr>\n",
       "    <tr>\n",
       "      <th>2</th>\n",
       "      <td>-0.010956</td>\n",
       "      <td>0.004313</td>\n",
       "      <td>0.045455</td>\n",
       "    </tr>\n",
       "    <tr>\n",
       "      <th>3</th>\n",
       "      <td>-0.031385</td>\n",
       "      <td>0.006044</td>\n",
       "      <td>-0.113043</td>\n",
       "    </tr>\n",
       "    <tr>\n",
       "      <th>4</th>\n",
       "      <td>-0.024142</td>\n",
       "      <td>0.005849</td>\n",
       "      <td>-0.039216</td>\n",
       "    </tr>\n",
       "    <tr>\n",
       "      <th>5</th>\n",
       "      <td>0.190755</td>\n",
       "      <td>-0.001965</td>\n",
       "      <td>-0.030612</td>\n",
       "    </tr>\n",
       "  </tbody>\n",
       "</table>\n",
       "</div>"
      ],
      "text/plain": [
       "   stock_abc  stock_def  stock_efg\n",
       "1  -0.081610   0.006754   0.009174\n",
       "2  -0.010956   0.004313   0.045455\n",
       "3  -0.031385   0.006044  -0.113043\n",
       "4  -0.024142   0.005849  -0.039216\n",
       "5   0.190755  -0.001965  -0.030612"
      ]
     },
     "execution_count": 2,
     "metadata": {},
     "output_type": "execute_result"
    }
   ],
   "source": [
    "# Create a daily_returns DataFrame by using the pct_change and dropna functions.\n",
    "daily_returns = stocks.pct_change().dropna()\n",
    "\n",
    "# View the first five rows of the daily_returns DataFrame\n",
    "daily_returns.head()\n"
   ]
  },
  {
   "cell_type": "code",
   "execution_count": 3,
   "id": "45f5cc1f",
   "metadata": {},
   "outputs": [
    {
     "data": {
      "text/plain": [
       "stock_def    0.003503\n",
       "stock_efg    0.055040\n",
       "stock_abc    0.074930\n",
       "dtype: float64"
      ]
     },
     "execution_count": 3,
     "metadata": {},
     "output_type": "execute_result"
    }
   ],
   "source": [
    "# Determine the stocks with the smallest and largest standard deviations by using the Pandas std and sort_values functions.\n",
    "std_deviation_stock_returns = daily_returns.std().sort_values()\n",
    "\n",
    "# View the std_deviation_stock_returns DataFrame\n",
    "std_deviation_stock_returns"
   ]
  },
  {
   "cell_type": "code",
   "execution_count": 4,
   "id": "06734524",
   "metadata": {},
   "outputs": [
    {
     "data": {
      "text/plain": [
       "<AxesSubplot:title={'center':'Daily Returns of Stock ABC, Stock DEF, and Stock EFG'}, ylabel='Daily Returns'>"
      ]
     },
     "execution_count": 4,
     "metadata": {},
     "output_type": "execute_result"
    },
    {
     "data": {
      "image/png": "[encoded data removed]",
      "text/plain": [
       "<Figure size 1080x720 with 1 Axes>"
      ]
     },
     "metadata": {
      "needs_background": "light"
     },
     "output_type": "display_data"
    }
   ],
   "source": [
    "# Use the Pandas plot.box function to review the spread of the daily_returns DataFrame.\n",
    "daily_returns.plot.box(figsize=(15, 10), title='Daily Returns of Stock ABC, Stock DEF, and Stock EFG', ylabel='Daily Returns')\n"
   ]
  },
  {
   "cell_type": "markdown",
   "id": "b0206624",
   "metadata": {},
   "source": [
    "### Compare the box plot with the sorted standard deviation metrics.\n",
    "Comparing the box plot of the daily returns with the sorted standard deviation metrics, it can be seen that the stock with the largest standard deviation, Stock ABC, has two outlier values. Stock DEF has the smallest standard deviation and it can be seen that it also has the smallest range on the box plot with no outlier values displaying.\n"
   ]
  }
 ],
 "metadata": {
  "kernelspec": {
   "display_name": "Python 3",
   "language": "python",
   "name": "python3"
  },
  "language_info": {
   "codemirror_mode": {
    "name": "ipython",
    "version": 3
   },
   "file_extension": ".py",
   "mimetype": "text/x-python",
   "name": "python",
   "nbconvert_exporter": "python",
   "pygments_lexer": "ipython3",
   "version": "3.7.10"
  }
 },
 "nbformat": 4,
 "nbformat_minor": 5
}
