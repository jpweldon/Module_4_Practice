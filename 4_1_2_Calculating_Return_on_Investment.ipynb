{
 "cells": [
  {
   "cell_type": "markdown",
   "id": "2b7dbbfd-5b53-4c72-ae19-54f68140f772",
   "metadata": {},
   "source": [
    "# 4_1_2_Calculating_Return_on_Investment"
   ]
  },
  {
   "cell_type": "markdown",
   "id": "1d437909-419c-4eee-b020-6fd953533503",
   "metadata": {},
   "source": [
    "Given an initial investment of $75,000 and current value of $83,750, what is the return on the investment?"
   ]
  },
  {
   "cell_type": "code",
   "execution_count": 41,
   "id": "d6498849-f533-4db2-af9e-6a5116d5cd11",
   "metadata": {},
   "outputs": [],
   "source": [
    "# Assign variables for provided values\n",
    "initial_investment = 75000\n",
    "current_value = 83750\n"
   ]
  },
  {
   "cell_type": "code",
   "execution_count": 42,
   "id": "eeebf439-6803-4375-904f-7bdba1ca2e6f",
   "metadata": {},
   "outputs": [],
   "source": [
    "# Calculate the return on investment and return on investment percent\n",
    "return_on_investment = (current_value - initial_investment) / initial_investment\n",
    "roi_percent = return_on_investment * 100\n"
   ]
  },
  {
   "cell_type": "code",
   "execution_count": 43,
   "id": "9984f188-582c-4cb2-a31a-629b64e4db8b",
   "metadata": {},
   "outputs": [
    {
     "name": "stdout",
     "output_type": "stream",
     "text": [
      "Given an initial investment of $75,000.00 and a current value of $83,750.00, the return on investment is 0.11667 or 11.67%.\n"
     ]
    }
   ],
   "source": [
    "# Print the return on investment\n",
    "print(f\"Given an initial investment of ${initial_investment:,.2f} and a current value of ${current_value:,.2f}, the return on investment is {return_on_investment:.5f} or {roi_percent:.2f}%.\")\n",
    "      "
   ]
  },
  {
   "cell_type": "markdown",
   "id": "763360e2-2ab5-407b-b91f-a722117a6ebf",
   "metadata": {},
   "source": [
    "A friend has asked for an initial investment of $6250 and promises a return on your investment of 7.75% in one year. What is the total dollar value you expect to receive from your friend when the one year is complete?\n"
   ]
  },
  {
   "cell_type": "code",
   "execution_count": 44,
   "id": "2947f1dd-53a2-4e64-bab5-eebbc5d948d1",
   "metadata": {},
   "outputs": [],
   "source": [
    "# Assign variables for provided values\n",
    "initial_investment = 6250\n",
    "return_on_investment = 0.0775\n"
   ]
  },
  {
   "cell_type": "code",
   "execution_count": 45,
   "id": "202e6154-a348-4c98-856a-2c126056f63d",
   "metadata": {},
   "outputs": [],
   "source": [
    "# Calculate the future value\n",
    "future_value = initial_investment * (1 + return_on_investment)\n"
   ]
  },
  {
   "cell_type": "code",
   "execution_count": 46,
   "id": "a29043d9-2593-4011-9b76-57993c19a8ed",
   "metadata": {},
   "outputs": [
    {
     "name": "stdout",
     "output_type": "stream",
     "text": [
      "Given an initial investment of $6,250.00, a return on investment of 7.75%, and a time horizon of one year, $6,734.37 should be received.\n"
     ]
    }
   ],
   "source": [
    "print(f\"Given an initial investment of ${initial_investment:,.2f}, a return on investment of {return_on_investment:.2%}, and a time horizon of one year, ${future_value:,.2f} should be received.\")\n"
   ]
  },
  {
   "cell_type": "code",
   "execution_count": null,
   "id": "d618874d-b8a9-4159-9da9-6132e883a28d",
   "metadata": {},
   "outputs": [],
   "source": []
  }
 ],
 "metadata": {
  "kernelspec": {
   "display_name": "Python 3",
   "language": "python",
   "name": "python3"
  },
  "language_info": {
   "codemirror_mode": {
    "name": "ipython",
    "version": 3
   },
   "file_extension": ".py",
   "mimetype": "text/x-python",
   "name": "python",
   "nbconvert_exporter": "python",
   "pygments_lexer": "ipython3",
   "version": "3.8.8"
  }
 },
 "nbformat": 4,
 "nbformat_minor": 5
}
