{
 "cells": [
  {
   "cell_type": "markdown",
   "id": "dc09abae-a5a7-4f59-94fe-f9269b3ce657",
   "metadata": {},
   "source": [
    "Calculate the annualized standard deviation of an investment:"
   ]
  },
  {
   "cell_type": "code",
   "execution_count": 1,
   "id": "00a7c743-54f5-4f22-a138-33f27061dbae",
   "metadata": {},
   "outputs": [
    {
     "data": {
      "text/html": [
       "<div>\n",
       "<style scoped>\n",
       "    .dataframe tbody tr th:only-of-type {\n",
       "        vertical-align: middle;\n",
       "    }\n",
       "\n",
       "    .dataframe tbody tr th {\n",
       "        vertical-align: top;\n",
       "    }\n",
       "\n",
       "    .dataframe thead th {\n",
       "        text-align: right;\n",
       "    }\n",
       "</style>\n",
       "<table border=\"1\" class=\"dataframe\">\n",
       "  <thead>\n",
       "    <tr style=\"text-align: right;\">\n",
       "      <th></th>\n",
       "      <th>ZMMM</th>\n",
       "      <th>OOPS</th>\n",
       "    </tr>\n",
       "  </thead>\n",
       "  <tbody>\n",
       "    <tr>\n",
       "      <th>2019-01-02</th>\n",
       "      <td>-0.406722</td>\n",
       "      <td>-0.931263</td>\n",
       "    </tr>\n",
       "    <tr>\n",
       "      <th>2019-01-03</th>\n",
       "      <td>-1.421409</td>\n",
       "      <td>-0.030221</td>\n",
       "    </tr>\n",
       "    <tr>\n",
       "      <th>2019-01-04</th>\n",
       "      <td>-0.094091</td>\n",
       "      <td>-0.389397</td>\n",
       "    </tr>\n",
       "    <tr>\n",
       "      <th>2019-01-05</th>\n",
       "      <td>0.186458</td>\n",
       "      <td>1.431418</td>\n",
       "    </tr>\n",
       "    <tr>\n",
       "      <th>2019-01-06</th>\n",
       "      <td>1.169662</td>\n",
       "      <td>-0.983686</td>\n",
       "    </tr>\n",
       "  </tbody>\n",
       "</table>\n",
       "</div>"
      ],
      "text/plain": [
       "                ZMMM      OOPS\n",
       "2019-01-02 -0.406722 -0.931263\n",
       "2019-01-03 -1.421409 -0.030221\n",
       "2019-01-04 -0.094091 -0.389397\n",
       "2019-01-05  0.186458  1.431418\n",
       "2019-01-06  1.169662 -0.983686"
      ]
     },
     "execution_count": 1,
     "metadata": {},
     "output_type": "execute_result"
    }
   ],
   "source": [
    "# Import the pandas and numpy libraries\n",
    "import pandas as pd\n",
    "import numpy as np\n",
    "\n",
    "# Crate the daily_returns DataFrame\n",
    "daily_returns = pd.DataFrame(\n",
    "    np.random.randn(252, 2),\n",
    "    index=pd.date_range('1/2/2019', periods=252),\n",
    "    columns=['ZMMM', 'OOPS'])\n",
    "\n",
    "# Display the first five rows of the daily_returns DataFrame\n",
    "daily_returns.head()\n"
   ]
  },
  {
   "cell_type": "code",
   "execution_count": 2,
   "id": "bfc44157-9df8-4822-911a-c8d698832a80",
   "metadata": {},
   "outputs": [
    {
     "data": {
      "text/plain": [
       "ZMMM    1.095979\n",
       "OOPS    0.982629\n",
       "dtype: float64"
      ]
     },
     "execution_count": 2,
     "metadata": {},
     "output_type": "execute_result"
    }
   ],
   "source": [
    "# Calculate the standard deviation of the assets\n",
    "std_deviation_daily_returns = daily_returns.std()\n",
    "\n",
    "# View the std_deviation_daily_returns DataFrame\n",
    "std_deviation_daily_returns\n"
   ]
  },
  {
   "cell_type": "code",
   "execution_count": 3,
   "id": "017dc62f-dda4-4fbf-97d4-de555b141ca7",
   "metadata": {},
   "outputs": [
    {
     "data": {
      "text/plain": [
       "OOPS    15.598747\n",
       "ZMMM    17.398131\n",
       "dtype: float64"
      ]
     },
     "execution_count": 3,
     "metadata": {},
     "output_type": "execute_result"
    }
   ],
   "source": [
    "# Create the yearly trading days variable\n",
    "trading_days_year = 252\n",
    "\n",
    "# Calculate the annualized standard deviation of the assets\n",
    "annualized_std_deviation_daily_returns = std_deviation_daily_returns * np.sqrt(trading_days_year)\n",
    "\n",
    "# Display the annualized standard devaition of the assets sorted\n",
    "annualized_std_deviation_daily_returns.sort_values()\n"
   ]
  },
  {
   "cell_type": "code",
   "execution_count": null,
   "id": "feff8b80-4c2d-4d07-b915-3222a1e1145a",
   "metadata": {},
   "outputs": [],
   "source": []
  }
 ],
 "metadata": {
  "kernelspec": {
   "display_name": "Python 3",
   "language": "python",
   "name": "python3"
  },
  "language_info": {
   "codemirror_mode": {
    "name": "ipython",
    "version": 3
   },
   "file_extension": ".py",
   "mimetype": "text/x-python",
   "name": "python",
   "nbconvert_exporter": "python",
   "pygments_lexer": "ipython3",
   "version": "3.8.8"
  }
 },
 "nbformat": 4,
 "nbformat_minor": 5
}
